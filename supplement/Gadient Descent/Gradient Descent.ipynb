{
 "cells": [
  {
   "cell_type": "markdown",
   "id": "333a2cc7",
   "metadata": {},
   "source": [
    "## Gradient Descent Rule"
   ]
  },
  {
   "cell_type": "markdown",
   "id": "3016d981",
   "metadata": {},
   "source": [
    "權重更新 - <a href=\"img/s-3.png\" target=\"_blank\">圖例</a>"
   ]
  },
  {
   "cell_type": "code",
   "execution_count": 1,
   "id": "6b2eb853",
   "metadata": {},
   "outputs": [],
   "source": [
    "import numpy as np\n",
    "import pandas as pd\n",
    "import matplotlib.pyplot as plt"
   ]
  },
  {
   "cell_type": "code",
   "execution_count": 2,
   "id": "4d1845af",
   "metadata": {},
   "outputs": [],
   "source": [
    "class AdalineGD(object):\n",
    "    \n",
    "    def __init__(self, alpha=0.01, epochs=50):\n",
    "        self.alpha = alpha\n",
    "        self.epochs = epochs\n",
    "        \n",
    "    def train(self, X, y):\n",
    "        self.w_ = np.zeros(1 + X.shape[1])\n",
    "        self.cost_ = []\n",
    "        for i in range(self.epochs):\n",
    "            output = self.net_input(X)\n",
    "            errors = (y - output)\n",
    "            self.w_[1:] += self.alpha * X.T.dot(errors)\n",
    "            self.w_[0] += self.alpha * errors.sum()\n",
    "            cost = (errors**2).sum() / 2.0\n",
    "            self.cost_.append(cost)\n",
    "        return self\n",
    "    \n",
    "    def net_input(self, X):\n",
    "            return np.dot(X, self.w_[1:]) + self.w_[0]\n",
    "    def activation(self, X):\n",
    "        return self.net_input(X)\n",
    "    def predict(self, X):\n",
    "        return np.where(self.activation(X) >= 0.0, 1, -1)\n"
   ]
  },
  {
   "cell_type": "code",
   "execution_count": 3,
   "id": "a663d727",
   "metadata": {},
   "outputs": [],
   "source": [
    "df = pd.read_csv('../iris.data', header=None)"
   ]
  },
  {
   "cell_type": "code",
   "execution_count": 4,
   "id": "d9b96a74",
   "metadata": {},
   "outputs": [],
   "source": [
    "# 前 100項 - setosa and versicolor \n",
    "# labeling setosa(-1) versicolor(1) \n",
    "y = df.iloc[0:100, 4].values\n",
    "y = np.where(y == 'Iris-setosa', -1, 1)\n",
    "\n",
    "# sepal length and petal length\n",
    "X = df.iloc[0:100, [0,2]].values"
   ]
  },
  {
   "cell_type": "code",
   "execution_count": 5,
   "id": "9b7ce2e8",
   "metadata": {},
   "outputs": [
    {
     "data": {
      "image/png": "[encoded data removed]",
      "text/plain": [
       "<Figure size 432x288 with 1 Axes>"
      ]
     },
     "metadata": {
      "needs_background": "light"
     },
     "output_type": "display_data"
    }
   ],
   "source": [
    "ada = AdalineGD(epochs=10, alpha=0.0001).train(X, y)\n",
    "plt.plot(range(1, len(ada.cost_)+1), ada.cost_, marker='o')\n",
    "plt.xlabel('Iterations')\n",
    "plt.ylabel('Sum-squared-error')\n",
    "plt.title('Adaline - Learning rate 0.0001')\n",
    "plt.show()"
   ]
  },
  {
   "cell_type": "code",
   "execution_count": null,
   "id": "c7ed6f5d",
   "metadata": {},
   "outputs": [],
   "source": []
  }
 ],
 "metadata": {
  "kernelspec": {
   "display_name": "Python 3 (ipykernel)",
   "language": "python",
   "name": "python3"
  },
  "language_info": {
   "codemirror_mode": {
    "name": "ipython",
    "version": 3
   },
   "file_extension": ".py",
   "mimetype": "text/x-python",
   "name": "python",
   "nbconvert_exporter": "python",
   "pygments_lexer": "ipython3",
   "version": "3.10.2"
  }
 },
 "nbformat": 4,
 "nbformat_minor": 5
}
